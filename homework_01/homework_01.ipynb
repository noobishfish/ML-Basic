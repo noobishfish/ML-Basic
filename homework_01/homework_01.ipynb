{
 "cells": [
  {
   "cell_type": "markdown",
   "id": "8955a739",
   "metadata": {},
   "source": [
    "# Домашнее задание: Базовые типы данных\n",
    "\n"
   ]
  },
  {
   "metadata": {},
   "cell_type": "markdown",
   "source": "",
   "id": "6095ee0637a70745"
  },
  {
   "cell_type": "markdown",
   "id": "d4e67b86",
   "metadata": {},
   "source": [
    "## Задание 1: Зеркальное отражение цифр\n",
    "\n",
    "Пользователь вводит пятизначное число. Программа должна зеркально отразить три центральные цифры. Первая и последняя остаются на местах.\n",
    "\n",
    "<br>\n",
    "\n",
    "**Примеры:**\n",
    "* `23456 -> 25436`\n",
    "* `30789 -> 38709`"
   ]
  },
  {
   "metadata": {
    "ExecuteTime": {
     "end_time": "2025-06-06T12:10:59.299668Z",
     "start_time": "2025-06-06T12:10:54.685254Z"
    }
   },
   "cell_type": "code",
   "source": [
    "numbers = input(\"Введите число\\n\")\n",
    "print(numbers[-2:-5:-1])"
   ],
   "id": "221bf74a3a469353",
   "outputs": [
    {
     "name": "stdout",
     "output_type": "stream",
     "text": [
      "321\n"
     ]
    }
   ],
   "execution_count": 6
  },
  {
   "cell_type": "markdown",
   "id": "00b9578b",
   "metadata": {},
   "source": [
    "## Задание 2: Подсчет выходных до отпуска\n",
    "\n",
    "Пользователь вводит сколько дней осталось до ближайшего отпуска. Программа должна вывести количество выходных дней до отпуска, если учесть, что выходные это суббота и воскресенье, сегодня понедельник и праздники мы не учитываем.  \n",
    "\n",
    "<br>\n",
    "\n",
    "**Примеры:**\n",
    "* `4  -> 0`\n",
    "* `6  -> 1`\n",
    "* `14 -> 4`"
   ]
  },
  {
   "cell_type": "code",
   "id": "07154103",
   "metadata": {
    "ExecuteTime": {
     "end_time": "2025-06-06T12:31:37.444903Z",
     "start_time": "2025-06-06T12:31:35.125394Z"
    }
   },
   "source": [
    "days_to_vacation = input(\"Введите количество дней до отпуска\\n\")\n",
    "print((int(days_to_vacation) // 7 * 2) + (int(days_to_vacation) % 7 // 6))"
   ],
   "outputs": [
    {
     "name": "stdout",
     "output_type": "stream",
     "text": [
      "21\n"
     ]
    }
   ],
   "execution_count": 41
  },
  {
   "cell_type": "markdown",
   "id": "cdde282c",
   "metadata": {},
   "source": [
    "## Задание 3: Плитка шоколада\n",
    "\n",
    "Пользователь вводит длину и ширину плитки шоколада, а также размер куска, который хочет отломить. Программа должна вычислить - можно ли совершить подобный разлом или нет, если учесть, что ломать можно только по прямой.\n",
    "\n",
    "<br>\n",
    "\n",
    "**Примеры:**\n",
    "* `3, 4, 6  -> True`\n",
    "* `5, 7, 8  -> False`\n",
    "* `4, 5, 12 -> True`"
   ]
  },
  {
   "cell_type": "code",
   "id": "70f3324c",
   "metadata": {
    "ExecuteTime": {
     "end_time": "2025-06-09T06:58:42.035071Z",
     "start_time": "2025-06-09T06:58:26.877911Z"
    }
   },
   "source": [
    "length = int(input(\"Введите длину плитки\\n\"))\n",
    "width = int(input(\"Введите ширину плитки\\n\"))\n",
    "size = int(input(\"Введите размер куска\\n\"))\n",
    "\n",
    "print(bool((size % length == 0) + (size % width == 0)))"
   ],
   "outputs": [
    {
     "name": "stdout",
     "output_type": "stream",
     "text": [
      "0\n",
      "2\n",
      "True\n"
     ]
    }
   ],
   "execution_count": 58
  },
  {
   "cell_type": "markdown",
   "id": "6470efc1",
   "metadata": {},
   "source": [
    "## Задание 4: Римские числа\n",
    "\n",
    "Пользователь вводит целое положительное число, программа должна вернуть строку в виде римского числа.\n",
    "\n",
    "<br>\n",
    "\n",
    "**Примеры:**\n",
    "* `3   -> III`\n",
    "* `15  -> XV`\n",
    "* `234 -> CCXXXIV`"
   ]
  },
  {
   "cell_type": "code",
   "id": "8686127c",
   "metadata": {
    "ExecuteTime": {
     "end_time": "2025-06-14T11:11:24.875803Z",
     "start_time": "2025-06-14T11:11:21.435651Z"
    }
   },
   "source": [
    "number = input(\"Введите число:\\n\")\n",
    "# number = '01234'\n",
    "ones = ((\"I\" * (int(number) % 10))\n",
    "        .replace(\"I\" * 9, \"IX\")\n",
    "        .replace(\"I\" * 5, \"V\")\n",
    "        .replace(\"I\" * 4, \"IV\"))\n",
    "tens =  ((\"X\" * (int(number) // 10 % 10))\n",
    "         .replace(\"X\" * 9, \"XC\")\n",
    "         .replace(\"X\" * 5, \"L\")\n",
    "         .replace(\"X\" * 4, \"XL\"))\n",
    "hundreds = ((\"C\" * (int(number) // 100 % 10))\n",
    "            .replace(\"C\" * 9, \"CM\")\n",
    "            .replace(\"C\" * 5, \"D\")\n",
    "            .replace(\"C\" * 4, \"CD\"))\n",
    "thousands = (\"M\" * (int(number) // 1000))\n",
    "\n",
    "result_romain = thousands + hundreds + tens + ones\n",
    "\n",
    "# Использовал тернарный, оператор чтобы не перебирать все значения выше 3 для тысяч\n",
    "\n",
    "print(result_romain if int(number) < 4000 else \"Римляне умеют считать только до 3999\") \n",
    "\n"
   ],
   "outputs": [
    {
     "name": "stdout",
     "output_type": "stream",
     "text": [
      "MMMCMXCIX\n"
     ]
    }
   ],
   "execution_count": 117
  },
  {
   "cell_type": "markdown",
   "id": "ca6a4c0a",
   "metadata": {},
   "source": [
    "## Задание 5: Проверка на вещественное число\n",
    "\n",
    "Пользователь вводит данные, проверить - являются ли они положительным вещественным числом. Не использовать встроенные функции для проверки, только методы данных и конструкцию IF. (Дополнительное задание, по желанию - проверка на отрицательные вещественные числа)\n",
    "\n",
    "<br>\n",
    "\n",
    "**Примеры:**\n",
    "* `5.6  -> True`\n",
    "* `.78  -> True`\n",
    "* `.67. -> False`\n",
    "* `5    -> True`"
   ]
  },
  {
   "cell_type": "code",
   "id": "74e39179",
   "metadata": {
    "ExecuteTime": {
     "end_time": "2025-06-14T12:28:18.026829Z",
     "start_time": "2025-06-14T12:28:04.995567Z"
    }
   },
   "source": [
    "float_number = input(\"Введите число:\\n\")\n",
    "print(float_number.replace('.', '', 1).isdigit())"
   ],
   "outputs": [
    {
     "name": "stdout",
     "output_type": "stream",
     "text": [
      "False\n"
     ]
    }
   ],
   "execution_count": 126
  },
  {
   "metadata": {},
   "cell_type": "code",
   "outputs": [],
   "execution_count": null,
   "source": "",
   "id": "607763fa2e67b4c2"
  }
 ],
 "metadata": {
  "kernelspec": {
   "display_name": ".venv (3.11.12)",
   "language": "python",
   "name": "python3"
  },
  "language_info": {
   "name": "python",
   "version": "3.11.12"
  }
 },
 "nbformat": 4,
 "nbformat_minor": 5
}
