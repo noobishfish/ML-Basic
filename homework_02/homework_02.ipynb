{
 "cells": [
  {
   "cell_type": "markdown",
   "id": "a2c501e6",
   "metadata": {},
   "source": [
    "# Домашнее задание: Управляющие конструкции"
   ]
  },
  {
   "cell_type": "markdown",
   "id": "3e4cac4a",
   "metadata": {},
   "source": [
    "## Задание 1: Получение однозначного числа\n",
    "\n",
    "Пользователь вводит целое число, программа складывает все цифры числа, с полученным числом — то же самое, и так до тех пор, пока не получится однозначное число.\n",
    "\n",
    "<br>\n",
    "\n",
    "**Примеры:**\n",
    "* `545   -> 5`\n",
    "* `12345 -> 6`"
   ]
  },
  {
   "metadata": {
    "ExecuteTime": {
     "end_time": "2025-06-17T12:29:08.325532Z",
     "start_time": "2025-06-17T12:29:05.560542Z"
    }
   },
   "cell_type": "code",
   "source": [
    "user_number = input(\"Введите число:\\n\")\n",
    "number_list = [int(digit) for digit in user_number]\n",
    "digit_sum = 0\n",
    "while digit_sum < 10:\n",
    "    for number in number_list:\n",
    "        digit_sum += number\n",
    "    if digit_sum >= 10:\n",
    "        number_list = [int(digit) for digit in str(digit_sum)]\n",
    "        digit_sum = 0\n",
    "    else:\n",
    "        break\n",
    "print(f'Финальная сумма: {digit_sum}')"
   ],
   "id": "344e919f",
   "outputs": [
    {
     "name": "stdout",
     "output_type": "stream",
     "text": [
      "Финальная сумма: 1\n"
     ]
    }
   ],
   "execution_count": 8
  },
  {
   "cell_type": "markdown",
   "id": "45527a4a",
   "metadata": {},
   "source": [
    "## Задание 2: Кинотеатр\n",
    "\n",
    "Дан список списков, каждый вложенный список состоит из 1 и 0, количество вложенных списков — количество рядов. Пользователь вводит, сколько билетов ему требуется. Программа должна найти ряд, где можно приобрести нужное количество билетов (места должны быть рядом). Если таких рядов несколько, то ближайший к экрану (ближайшим считается нулевой ряд). Если таких мест нет, то вывести False.\n",
    "\n",
    "<br>\n",
    "\n",
    "**Примеры:**\n",
    "* `[[0,1,1,0], [1,0,0,0], [0,1,0,0]], 2 -> 1`\n",
    "* `[[0,1,1,0], [1,0,1,0], [1,1,0,1]], 2 -> False`"
   ]
  },
  {
   "cell_type": "code",
   "id": "3a29082d",
   "metadata": {
    "ExecuteTime": {
     "end_time": "2025-06-15T07:43:45.433279Z",
     "start_time": "2025-06-15T07:43:43.646111Z"
    }
   },
   "source": [
    "from random import randint\n",
    "cinema_seats = [[randint(0, 1) for j in range(4)] for i in range(4)]\n",
    "# cinema_seats = [[0, 0, 1, 1], [0, 1 ,1, 0], [1, 1, 1 ,1], [0, 0, 0, 0]]\n",
    "print(cinema_seats)\n",
    "\n",
    "seats_to_buy = int(input(\"How many seats do you want to buy:\\n\"))\n",
    "row_number = 0\n",
    "seat_number = 0\n",
    "quantity = 0\n",
    "\n",
    "for row in cinema_seats:\n",
    "    for seat in row:\n",
    "        if seat == 0:\n",
    "            quantity += 1\n",
    "            if seats_to_buy == quantity:\n",
    "                break\n",
    "        else:\n",
    "            quantity = 0\n",
    "    if seats_to_buy == quantity:\n",
    "        break\n",
    "    row_number += 1\n",
    "if seats_to_buy > quantity:\n",
    "    print(\"False\")\n",
    "else:\n",
    "    print(f'Ваш ряд - {row_number}')\n"
   ],
   "outputs": [
    {
     "name": "stdout",
     "output_type": "stream",
     "text": [
      "[[1, 0, 1, 1], [1, 1, 0, 1], [0, 0, 1, 1], [0, 0, 1, 0]]\n",
      "False\n"
     ]
    }
   ],
   "execution_count": 65
  },
  {
   "cell_type": "markdown",
   "id": "7b7f098c",
   "metadata": {},
   "source": [
    "## Задание 3: Алгоритм RLE\n",
    "\n",
    "Необходимо написать упрощенную версию алгоритма RLE. \n",
    "Алгоритм RLE объединяет подряд идущие символы в коэффициент и символ.\n",
    "\n",
    "<br>\n",
    "\n",
    "**Примеры:**\n",
    "* `asssdddsssddd -> 1a3s3d3s3d`\n",
    "* `aaabbbbccccc  -> 3a4b5c`\n",
    "* `abcba         -> 1a1b1c1b1a`"
   ]
  },
  {
   "metadata": {},
   "cell_type": "markdown",
   "source": "",
   "id": "a1c1fe3b00068104"
  },
  {
   "cell_type": "code",
   "id": "e0d30ec2",
   "metadata": {
    "ExecuteTime": {
     "end_time": "2025-06-17T13:10:46.128924Z",
     "start_time": "2025-06-17T13:10:45.073213Z"
    }
   },
   "source": [
    "user_input = input(\"Введите текст:\\n\").replace(' ', '') # убираю пробелы, но без проверки Regexp, если пробелов больше 1.\n",
    "prev_symbol = user_input[0]\n",
    "symbol_counter = 0\n",
    "result = ''\n",
    "for symbol in user_input:\n",
    "    if symbol == prev_symbol:\n",
    "        symbol_counter += 1\n",
    "    else:\n",
    "       result += str(symbol_counter) + prev_symbol\n",
    "       symbol_counter = 1\n",
    "    prev_symbol = symbol\n",
    "result += str(symbol_counter) + prev_symbol\n",
    "print(result)\n",
    "        "
   ],
   "outputs": [
    {
     "name": "stdout",
     "output_type": "stream",
     "text": [
      "1a1b\n"
     ]
    }
   ],
   "execution_count": 22
  },
  {
   "cell_type": "markdown",
   "id": "f24d5e58",
   "metadata": {},
   "source": [
    "## Задание 4: Шифр Цезаря\n",
    "\n",
    "Реализуйте программу для шифрования текста с помощью шифра Цезаря.  \n",
    "Шифр Цезаря — это метод шифрования, при котором каждая буква в тексте заменяется буквой, стоящей на фиксированное число позиций дальше в алфавите.\n",
    "\n",
    "### Требования\n",
    "1. Программа должна принимать на вход:\n",
    "   - Строку текста для шифрования\n",
    "   - Ключ шифра (число от 0 до 25)\n",
    "\n",
    "2. Правила шифрования:\n",
    "   - Шифруются только латинские буквы (a-z, A-Z)\n",
    "   - Сохраняется регистр букв (заглавные остаются заглавными)\n",
    "   - Пробелы, цифры и знаки препинания остаются без изменений\n",
    "   - Сдвиг циклический (после 'z' идет 'a', после 'Z' идет 'A')\n",
    "\n",
    "### Примеры\n",
    "\n",
    "* `\"Hello World\", 3      -> \"Khoor Zruog\"`\n",
    "* `\"Python is great!\", 5 -> \"Udymts nx lwjfy!\"`\n",
    "* `\"XYZ abc\", 3          -> \"ABC def\"`\n",
    "* `\"Test 123\", 1         -> \"Uftu 123\"`\n",
    "\n",
    "### Алгоритм\n",
    "* Для каждого символа в строке:\n",
    "   - Если это латинская буква, найти её позицию в алфавите\n",
    "   - Добавить к позиции значение ключа\n",
    "   - Если результат больше 25, использовать остаток от деления на 26\n",
    "   - Преобразовать обратно в букву, сохранив регистр\n",
    "   - Если это не буква, оставить символ без изменений\n"
   ]
  },
  {
   "cell_type": "code",
   "id": "6a075d20",
   "metadata": {
    "ExecuteTime": {
     "end_time": "2025-06-25T14:51:48.354219Z",
     "start_time": "2025-06-25T14:51:38.204969Z"
    }
   },
   "source": [
    "user_text = input(\"Введите текст: \\n\")\n",
    "cypher_step = int(input(\"Введите смещение: \\n\"))\n",
    "cypher_step = cypher_step % 26 if cypher_step > 25 else cypher_step\n",
    "cyphered_text = ''\n",
    "\n",
    "for character in user_text:\n",
    "    if 64 < ord(character) < 91:\n",
    "        if ord(character) + cypher_step < 91:\n",
    "            # print(f\"1. If catched. Изначальный код {ord(character)}. Код + смещение {ord(character) + cypher_step}. Символ {chr(ord(character) + cypher_step)}\")\n",
    "            cyphered_text += chr(ord(character) + cypher_step)\n",
    "        else: \n",
    "            cyphered_text += chr(63 + cypher_step - (25 - (ord(character) - 64)))\n",
    "           # print(f\"1. If else. Изначальный код {ord(character)}. Код + смещение {ord(character) + cypher_step}. Код символа {64 + cypher_step}. Символ {chr(64 + cypher_step)}\")\n",
    "    elif 96 < ord(character) < 123:\n",
    "        if ord(character) + cypher_step < 123:\n",
    "           # print(f\"2. If catched. Изначальный код {ord(character)}. Изначальный символ {character}. Код + смещение {ord(character) + cypher_step}. Символ {chr(ord(character) + cypher_step)}\")\n",
    "            cyphered_text += chr(ord(character) + cypher_step)\n",
    "        else: \n",
    "            cyphered_text += chr(95 + cypher_step - (25 - (ord(character) - 96)))\n",
    "           # print(f\"2. Else catched. Изначальный код {ord(character)}. Изначальный символ {character}. Код + смещение {ord(character) + cypher_step}. Код символа {97 + (25 - (123 - ord(character)))}. Символ {chr(97 + (25 - (123 - ord(character))))}\")\n",
    "    else:\n",
    "        cyphered_text += character\n",
    "        \n",
    "print(cyphered_text)"
   ],
   "outputs": [
    {
     "name": "stdout",
     "output_type": "stream",
     "text": [
      "Udymts nx lwjfy!123\n"
     ]
    }
   ],
   "execution_count": 73
  },
  {
   "metadata": {
    "ExecuteTime": {
     "end_time": "2025-06-25T14:42:09.658798Z",
     "start_time": "2025-06-25T14:42:09.636047Z"
    }
   },
   "cell_type": "code",
   "source": [
    "letter = \"y\"\n",
    "print(ord(letter))\n",
    "print(f'{ord(letter) + 25}. Буква: {chr(ord(letter) + 25)}')\n",
    "print(123 - ord(letter))\n",
    "print(25 - (ord(letter) - 96))\n",
    "print(chr(95 + 5 - (25 - (ord(letter) - 96))))"
   ],
   "id": "33a46a912434aeeb",
   "outputs": [
    {
     "name": "stdout",
     "output_type": "stream",
     "text": [
      "121\n",
      "146. Буква: \n",
      "2\n",
      "0\n",
      "d\n"
     ]
    }
   ],
   "execution_count": 59
  },
  {
   "cell_type": "markdown",
   "id": "c88bf52c",
   "metadata": {},
   "source": [
    "## Задание 5: Табель успеваемости\n",
    "\n",
    "Пользователь в бесконечном цикле (пока не будет введена пустая строка) вводит строки вида: 'название предмета' 'фамилия ученика' 'оценка'. После окончания ввода программа выводит в консоль название предмета, далее список учеников и все их оценки в виде таблицы.\n",
    "\n",
    "<br>\n",
    "\n",
    "**Примеры:**\n",
    "\n",
    "<br>\n",
    "\n",
    "*Ввод:*\n",
    "```python\n",
    "Математика Иванов  5\n",
    "Математика Иванов  4\n",
    "Литература Иванов  3\n",
    "Математика Петров  5\n",
    "Литература Сидоров 3\n",
    "Литература Петров  5\n",
    "Литература Иванов  4\n",
    "Математика Сидоров 3\n",
    "Математика Петров  5\n",
    "```\n",
    "\n",
    "<br>\n",
    "\n",
    "*Результат:*\n",
    "```python\n",
    "Математика # вводим название предмета\n",
    "\n",
    "# выводим список учеников и их оценки\n",
    "Иванов  5 4\n",
    "Петров  5 5\n",
    "Сидоров 3\n",
    "```\n",
    "\n",
    "```python\n",
    "Литература # вводим название предмета\n",
    "\n",
    "# выводим список учеников и их оценки\n",
    "Иванов  3 4\n",
    "Сидоров 3\n",
    "Петров  5\n",
    "```"
   ]
  },
  {
   "cell_type": "code",
   "id": "196f6ff4",
   "metadata": {
    "ExecuteTime": {
     "end_time": "2025-06-26T18:19:52.901064Z",
     "start_time": "2025-06-26T18:19:13.473727Z"
    }
   },
   "source": [
    "class_data = {}\n",
    "running = True\n",
    "while running:\n",
    "    user_string = input(\"Введите предмет, фамилию и оценку: \\n\")\n",
    "    if user_string == '':\n",
    "        break\n",
    "    user_string = user_string.replace(',', '').split(' ')\n",
    "    lesson = user_string[0]\n",
    "    surname = user_string[1]\n",
    "    grade = user_string[2]\n",
    "    if lesson not in class_data:\n",
    "        class_data[lesson] = {}\n",
    "    if surname in class_data[lesson]:\n",
    "        class_data[lesson][surname].append(grade)\n",
    "    else:\n",
    "        class_data[lesson][surname] = [grade]\n",
    "\n",
    "print(class_data)\n",
    "\n",
    "for lesson in class_data:\n",
    "    print(f'{lesson}\\n')\n",
    "    for surname in class_data[lesson]:\n",
    "        record = surname\n",
    "        for grade in class_data[lesson][surname]:\n",
    "            record += f' {grade}'\n",
    "        print(record)\n",
    "\n",
    "    "
   ],
   "outputs": [
    {
     "name": "stdout",
     "output_type": "stream",
     "text": [
      "{'Math': {'Alex': ['5', '4'], 'Tomas': ['2']}, 'History': {'Tom': ['4', '3'], 'John': ['4']}}\n",
      "Math\n",
      "\n",
      "\n",
      "Alex 5 4\n",
      "Tomas 2\n",
      "History\n",
      "\n",
      "\n",
      "Tom 4 3\n",
      "John 4\n"
     ]
    }
   ],
   "execution_count": 15
  },
  {
   "metadata": {},
   "cell_type": "code",
   "outputs": [],
   "execution_count": null,
   "source": "",
   "id": "724fca429dcee52b"
  }
 ],
 "metadata": {
  "kernelspec": {
   "display_name": ".venv (3.11.12)",
   "language": "python",
   "name": "python3"
  },
  "language_info": {
   "codemirror_mode": {
    "name": "ipython",
    "version": 3
   },
   "file_extension": ".py",
   "mimetype": "text/x-python",
   "name": "python",
   "nbconvert_exporter": "python",
   "pygments_lexer": "ipython3",
   "version": "3.11.12"
  }
 },
 "nbformat": 4,
 "nbformat_minor": 5
}
