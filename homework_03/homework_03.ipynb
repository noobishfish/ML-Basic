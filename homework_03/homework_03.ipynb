{
 "cells": [
  {
   "cell_type": "markdown",
   "id": "e2450ffa",
   "metadata": {},
   "source": [
    "# Домашнее задание: Функции"
   ]
  },
  {
   "cell_type": "markdown",
   "id": "8d062500",
   "metadata": {},
   "source": [
    "## Задание 1: Конвертер регистров\n",
    "\n",
    "Написать функцию, которая будет переводить snake_case в PascalCase и наоборот. \n",
    "\n",
    "Функция должна сама определять - какой формат ей передали. Можно добавить ключевой аргумент, который будет принудительно возвращать один из форматов.\n",
    "\n",
    "<br>\n",
    "\n",
    "**Примеры:**\n",
    "* `otus_course     -> OtusCourse`\n",
    "* `PythonIsTheBest -> python_is_the_best`\n",
    "\n"
   ]
  },
  {
   "cell_type": "code",
   "id": "ec0075f5",
   "metadata": {
    "ExecuteTime": {
     "end_time": "2025-07-03T09:01:30.064511Z",
     "start_time": "2025-07-03T09:01:20.786432Z"
    }
   },
   "source": [
    "user_input = input(\"Введите текст: \\n\")\n",
    "\n",
    "def case_switcher(text: str) -> str:\n",
    "    final_text = ''\n",
    "    if all(char.islower() for char in text if char.isalpha()):\n",
    "        for word in text.split('_'):\n",
    "            final_text += word.capitalize()\n",
    "    else:\n",
    "        for index, char in enumerate(text):\n",
    "            if (index == 0 and char.isupper()):\n",
    "                final_text += char.lower()\n",
    "            elif char.isupper():\n",
    "                final_text += '_' + char.lower()\n",
    "            else:\n",
    "                final_text += char\n",
    "\n",
    "    return final_text\n",
    "            \n",
    "print(case_switcher(user_input))"
   ],
   "outputs": [
    {
     "name": "stdout",
     "output_type": "stream",
     "text": [
      "python_is_the_best\n"
     ]
    }
   ],
   "execution_count": 9
  },
  {
   "cell_type": "markdown",
   "id": "b8253fb9",
   "metadata": {},
   "source": [
    "## Задание 2: Проверка валидности даты\n",
    "\n",
    "Написать функцию проверяющую валидность введенной даты.\n",
    "\n",
    "<br>\n",
    "\n",
    "**Примеры:**\n",
    "* `29.02.2000 -> True`\n",
    "* `29.02.2001 -> False`\n",
    "* `31.04.1962 -> False`\n",
    "\n"
   ]
  },
  {
   "cell_type": "code",
   "execution_count": null,
   "id": "e7f4e9c8",
   "metadata": {},
   "outputs": [],
   "source": [
    "# ВАШ КОД ЗДЕСЬ"
   ]
  },
  {
   "cell_type": "markdown",
   "id": "2d77053e",
   "metadata": {},
   "source": [
    "## Задание 3: Проверка на простое число\n",
    "\n",
    "Функция проверки на простое число. Простые числа – это такие числа, которые делятся на себя и на единицу.\n",
    "\n",
    "<br>\n",
    "\n",
    "**Примеры:**\n",
    "* `17 -> True`\n",
    "* `20 -> False`\n",
    "* `23 -> True`"
   ]
  },
  {
   "cell_type": "code",
   "execution_count": null,
   "id": "c20728f6",
   "metadata": {},
   "outputs": [],
   "source": [
    "# ВАШ КОД ЗДЕСЬ"
   ]
  },
  {
   "cell_type": "markdown",
   "id": "29703efe",
   "metadata": {},
   "source": [
    "## Задание 4: Учет пользователей\n",
    "\n",
    "Пользователь в бесконечном цикле вводит данные пользователей: имя, затем фамилию, возраст и ID. Ввод продолжается до тех пор, пока не будет введено пустое поле. \n",
    "\n",
    "Пользователи заносятся в словарь, где ключ это ID пользователя, а остальные данные записываются в виде кортежа. \n",
    "\n",
    "**Программа должна проверять:**\n",
    "* имя и фамилия состоят только из символов и начинаются с большой буквы - если не с большой, то заменяет букву на большую;\n",
    "* возраст должен быть числом от 18 до 60;\n",
    "* ID - целое число, дополненное до 8 знаков незначащими нулями, ID должен быть уникальным.\n",
    "\n",
    "**Дополнительно:** написать функцию, которая будет выводить полученный словарь в виде таблицы."
   ]
  },
  {
   "cell_type": "code",
   "execution_count": null,
   "id": "54d1f971",
   "metadata": {},
   "outputs": [],
   "source": [
    "# ВАШ КОД ЗДЕСЬ"
   ]
  }
 ],
 "metadata": {
  "kernelspec": {
   "display_name": ".venv (3.11.12)",
   "language": "python",
   "name": "python3"
  },
  "language_info": {
   "name": "python",
   "version": "3.11.12"
  }
 },
 "nbformat": 4,
 "nbformat_minor": 5
}
