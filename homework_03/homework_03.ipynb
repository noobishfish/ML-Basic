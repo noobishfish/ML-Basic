{
 "cells": [
  {
   "cell_type": "markdown",
   "id": "e2450ffa",
   "metadata": {},
   "source": [
    "# Домашнее задание: Функции"
   ]
  },
  {
   "cell_type": "markdown",
   "id": "8d062500",
   "metadata": {},
   "source": [
    "## Задание 1: Конвертер регистров\n",
    "\n",
    "Написать функцию, которая будет переводить snake_case в PascalCase и наоборот. \n",
    "\n",
    "Функция должна сама определять - какой формат ей передали. Можно добавить ключевой аргумент, который будет принудительно возвращать один из форматов.\n",
    "\n",
    "<br>\n",
    "\n",
    "**Примеры:**\n",
    "* `otus_course     -> OtusCourse`\n",
    "* `PythonIsTheBest -> python_is_the_best`\n",
    "\n"
   ]
  },
  {
   "cell_type": "code",
   "id": "ec0075f5",
   "metadata": {
    "ExecuteTime": {
     "end_time": "2025-07-03T09:01:30.064511Z",
     "start_time": "2025-07-03T09:01:20.786432Z"
    }
   },
   "source": [
    "user_input = input(\"Введите текст: \\n\")\n",
    "\n",
    "def case_switcher(text: str) -> str:\n",
    "    final_text = ''\n",
    "    if all(char.islower() for char in text if char.isalpha()):\n",
    "        for word in text.split('_'):\n",
    "            final_text += word.capitalize()\n",
    "    else:\n",
    "        for index, char in enumerate(text):\n",
    "            if (index == 0 and char.isupper()):\n",
    "                final_text += char.lower()\n",
    "            elif char.isupper():\n",
    "                final_text += '_' + char.lower()\n",
    "            else:\n",
    "                final_text += char\n",
    "\n",
    "    return final_text\n",
    "            \n",
    "print(case_switcher(user_input))"
   ],
   "outputs": [
    {
     "name": "stdout",
     "output_type": "stream",
     "text": [
      "python_is_the_best\n"
     ]
    }
   ],
   "execution_count": 9
  },
  {
   "cell_type": "markdown",
   "id": "b8253fb9",
   "metadata": {},
   "source": [
    "## Задание 2: Проверка валидности даты\n",
    "\n",
    "Написать функцию проверяющую валидность введенной даты.\n",
    "\n",
    "<br>\n",
    "\n",
    "**Примеры:**\n",
    "* `29.02.2000 -> True`\n",
    "* `29.02.2001 -> False`\n",
    "* `31.04.1962 -> False`\n",
    "\n"
   ]
  },
  {
   "cell_type": "code",
   "id": "e7f4e9c8",
   "metadata": {
    "ExecuteTime": {
     "end_time": "2025-07-03T15:50:41.563618Z",
     "start_time": "2025-07-03T15:50:33.442892Z"
    }
   },
   "source": [
    "date_input = input(\"Введите дату:\\n\")\n",
    "\n",
    "def check_date (date: str) -> bool:\n",
    "    date_data = date.split('.')  \n",
    "    print(date_data)\n",
    "    leap_year = True if (int(date_data[2]) % 4 == 0 and int(date_data[2]) % 100 != 0) or int(date_data[2]) % 400 == 0 else False\n",
    "\n",
    "    days_in_month = {'01':'31',\n",
    "                     '02':'28',\n",
    "                     '03':'31',\n",
    "                     '04':'30',\n",
    "                     '05':'31',\n",
    "                     '06':'30',\n",
    "                     '07':'31',\n",
    "                     '08':'30',\n",
    "                     '09':'31',\n",
    "                     '10':'30',\n",
    "                     '11':'31',\n",
    "                     '12':'31'}\n",
    "    if leap_year:\n",
    "        days_in_month['02'] = '29'\n",
    "        \n",
    "    if (0 > int(date_data[0]) > int(days_in_month[date_data[1]])) or (0 > int(date_data[1]) > 12):\n",
    "        print(\"Такого числа не существует\")\n",
    "        return False\n",
    "    \n",
    "    if ( 0 < int(date_data[1]) < 12) and (0 < int(date_data[0]) <= int(days_in_month[date_data[1]])):\n",
    "        return True\n",
    "    else:\n",
    "        return False\n",
    "\n",
    "print(check_date (date_input))\n",
    "    \n",
    "\n",
    "\n",
    "    "
   ],
   "outputs": [
    {
     "name": "stdout",
     "output_type": "stream",
     "text": [
      "['31', '04', '1962']\n",
      "False\n"
     ]
    }
   ],
   "execution_count": 26
  },
  {
   "cell_type": "markdown",
   "id": "2d77053e",
   "metadata": {},
   "source": [
    "## Задание 3: Проверка на простое число\n",
    "\n",
    "Функция проверки на простое число. Простые числа – это такие числа, которые делятся на себя и на единицу.\n",
    "\n",
    "<br>\n",
    "\n",
    "**Примеры:**\n",
    "* `17 -> True`\n",
    "* `20 -> False`\n",
    "* `23 -> True`"
   ]
  },
  {
   "cell_type": "code",
   "id": "c20728f6",
   "metadata": {
    "ExecuteTime": {
     "end_time": "2025-07-03T16:05:25.340399Z",
     "start_time": "2025-07-03T16:05:22.964893Z"
    }
   },
   "source": [
    "import math\n",
    "number_input = int(input(\"Введите число: \\n\"))\n",
    "\n",
    "def is_prime(number: int) -> bool:\n",
    "    if number <= 1:\n",
    "        return False\n",
    "    if number <= 3:\n",
    "        return True\n",
    "    if number % 2 == 0:\n",
    "        return False\n",
    "    for i in range(3, int(math.sqrt(number)) + 1, 2):\n",
    "        if number % i == 0:\n",
    "            return False\n",
    "    return True\n",
    "print(is_prime(number_input))"
   ],
   "outputs": [
    {
     "name": "stdout",
     "output_type": "stream",
     "text": [
      "True\n"
     ]
    }
   ],
   "execution_count": 30
  },
  {
   "cell_type": "markdown",
   "id": "29703efe",
   "metadata": {},
   "source": [
    "## Задание 4: Учет пользователей\n",
    "\n",
    "Пользователь в бесконечном цикле вводит данные пользователей: имя, затем фамилию, возраст и ID. Ввод продолжается до тех пор, пока не будет введено пустое поле. \n",
    "\n",
    "Пользователи заносятся в словарь, где ключ это ID пользователя, а остальные данные записываются в виде кортежа. \n",
    "\n",
    "**Программа должна проверять:**\n",
    "* имя и фамилия состоят только из символов и начинаются с большой буквы - если не с большой, то заменяет букву на большую;\n",
    "* возраст должен быть числом от 18 до 60;\n",
    "* ID - целое число, дополненное до 8 знаков незначащими нулями, ID должен быть уникальным.\n",
    "\n",
    "**Дополнительно:** написать функцию, которая будет выводить полученный словарь в виде таблицы."
   ]
  },
  {
   "cell_type": "code",
   "execution_count": null,
   "id": "54d1f971",
   "metadata": {},
   "outputs": [],
   "source": [
    "# ВАШ КОД ЗДЕСЬ"
   ]
  }
 ],
 "metadata": {
  "kernelspec": {
   "display_name": ".venv (3.11.12)",
   "language": "python",
   "name": "python3"
  },
  "language_info": {
   "name": "python",
   "version": "3.11.12"
  }
 },
 "nbformat": 4,
 "nbformat_minor": 5
}
